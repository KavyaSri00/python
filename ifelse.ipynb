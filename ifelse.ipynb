{
 "cells": [
  {
   "cell_type": "markdown",
   "metadata": {},
   "source": [
    "53"
   ]
  },
  {
   "cell_type": "code",
   "execution_count": 1,
   "metadata": {},
   "outputs": [
    {
     "ename": "ValueError",
     "evalue": "invalid literal for int() with base 10: 'k'",
     "output_type": "error",
     "traceback": [
      "\u001b[1;31m---------------------------------------------------------------------------\u001b[0m",
      "\u001b[1;31mValueError\u001b[0m                                Traceback (most recent call last)",
      "Cell \u001b[1;32mIn[1], line 1\u001b[0m\n\u001b[1;32m----> 1\u001b[0m num\u001b[38;5;241m=\u001b[39m\u001b[38;5;28;43mint\u001b[39;49m\u001b[43m(\u001b[49m\u001b[38;5;28;43minput\u001b[39;49m\u001b[43m(\u001b[49m\u001b[43m)\u001b[49m\u001b[43m)\u001b[49m\n\u001b[0;32m      2\u001b[0m \u001b[38;5;28;01mif\u001b[39;00m num \u001b[38;5;241m>\u001b[39m\u001b[38;5;241m0\u001b[39m:\n\u001b[0;32m      3\u001b[0m     \u001b[38;5;28mprint\u001b[39m(\u001b[38;5;124m\"\u001b[39m\u001b[38;5;124mpositive\u001b[39m\u001b[38;5;124m\"\u001b[39m)\n",
      "\u001b[1;31mValueError\u001b[0m: invalid literal for int() with base 10: 'k'"
     ]
    }
   ],
   "source": [
    "num=int(input())\n",
    "if num >0:\n",
    "    print(\"positive\")\n",
    "else:\n",
    "    print(\"negative\")"
   ]
  },
  {
   "cell_type": "markdown",
   "metadata": {},
   "source": [
    "54"
   ]
  },
  {
   "cell_type": "code",
   "execution_count": null,
   "metadata": {},
   "outputs": [
    {
     "name": "stdout",
     "output_type": "stream",
     "text": [
      "odd\n"
     ]
    }
   ],
   "source": [
    "num=int(input())\n",
    "if num%2==0:\n",
    "    print(\"even\")\n",
    "else:\n",
    "    print(\"odd\")"
   ]
  },
  {
   "cell_type": "markdown",
   "metadata": {},
   "source": [
    "55"
   ]
  },
  {
   "cell_type": "code",
   "execution_count": null,
   "metadata": {},
   "outputs": [
    {
     "name": "stdout",
     "output_type": "stream",
     "text": [
      "greater\n"
     ]
    }
   ],
   "source": [
    "num=int(input())\n",
    "if num>10:\n",
    "    print(\"greater\")\n",
    "else:\n",
    "    print(\"not greater\")"
   ]
  },
  {
   "cell_type": "markdown",
   "metadata": {},
   "source": [
    "56"
   ]
  },
  {
   "cell_type": "code",
   "execution_count": null,
   "metadata": {},
   "outputs": [
    {
     "name": "stdout",
     "output_type": "stream",
     "text": [
      "not present between 45 and 125\n"
     ]
    }
   ],
   "source": [
    "num=int(input())\n",
    "if num>45 and num<125:\n",
    "    print(chr(num))\n",
    "else:\n",
    "    print(\"not present between 45 and 125\")\n",
    "    "
   ]
  },
  {
   "cell_type": "markdown",
   "metadata": {},
   "source": [
    "57"
   ]
  },
  {
   "cell_type": "code",
   "execution_count": null,
   "metadata": {},
   "outputs": [
    {
     "name": "stdout",
     "output_type": "stream",
     "text": [
      "good evening\n"
     ]
    }
   ],
   "source": [
    "num=int(input())\n",
    "num1=int(input())\n",
    "if (num%3==0 and num%5==0) and (num1%3==0 and num1%5==0):\n",
    "    print(\"good morning\")\n",
    "else:\n",
    "    print(\"good evening\")"
   ]
  },
  {
   "cell_type": "markdown",
   "metadata": {},
   "source": [
    "58"
   ]
  },
  {
   "cell_type": "code",
   "execution_count": null,
   "metadata": {},
   "outputs": [
    {
     "name": "stdout",
     "output_type": "stream",
     "text": [
      "4\n"
     ]
    }
   ],
   "source": [
    "num=int(input())\n",
    "num1=int(input())\n",
    "if num==num1:\n",
    "    print(num*num1)\n",
    "else:\n",
    "    print(\"not equal\")"
   ]
  },
  {
   "cell_type": "markdown",
   "metadata": {},
   "source": [
    "59"
   ]
  },
  {
   "cell_type": "code",
   "execution_count": null,
   "metadata": {},
   "outputs": [
    {
     "name": "stdout",
     "output_type": "stream",
     "text": [
      "10\n"
     ]
    }
   ],
   "source": [
    "num=int(input())\n",
    "num1=int(input())\n",
    "if num>num1:\n",
    "    print(num)\n",
    "else:\n",
    "    print(num1)"
   ]
  },
  {
   "cell_type": "markdown",
   "metadata": {},
   "source": [
    "60"
   ]
  },
  {
   "cell_type": "code",
   "execution_count": null,
   "metadata": {},
   "outputs": [
    {
     "name": "stdout",
     "output_type": "stream",
     "text": [
      "5\n"
     ]
    }
   ],
   "source": [
    "num=int(input())\n",
    "if num>10:\n",
    "    print(\"greater\")\n",
    "    print(num)\n",
    "else:\n",
    "    print(num)"
   ]
  },
  {
   "cell_type": "markdown",
   "metadata": {},
   "source": [
    "61"
   ]
  },
  {
   "cell_type": "code",
   "execution_count": null,
   "metadata": {},
   "outputs": [
    {
     "name": "stdout",
     "output_type": "stream",
     "text": [
      "38\n"
     ]
    }
   ],
   "source": [
    "num=int(input())\n",
    "if num>21:\n",
    "    print(num-21)\n",
    "else:\n",
    "    print((21-num)*2)"
   ]
  },
  {
   "cell_type": "markdown",
   "metadata": {},
   "source": [
    "62"
   ]
  },
  {
   "cell_type": "code",
   "execution_count": null,
   "metadata": {},
   "outputs": [
    {
     "name": "stdout",
     "output_type": "stream",
     "text": [
      "3\n"
     ]
    }
   ],
   "source": [
    "num=int(input())\n",
    "num1=int(input())\n",
    "if num<num1:\n",
    "    print(num)\n",
    "else:\n",
    "    print(num1)"
   ]
  },
  {
   "cell_type": "markdown",
   "metadata": {},
   "source": [
    "63"
   ]
  },
  {
   "cell_type": "code",
   "execution_count": null,
   "metadata": {},
   "outputs": [
    {
     "name": "stdout",
     "output_type": "stream",
     "text": [
      "2\n"
     ]
    }
   ],
   "source": [
    "num=int(input())\n",
    "if num%2==0:\n",
    "    print(num+1)\n",
    "else:\n",
    "    print(num-1)"
   ]
  },
  {
   "cell_type": "markdown",
   "metadata": {},
   "source": [
    "64"
   ]
  },
  {
   "cell_type": "code",
   "execution_count": null,
   "metadata": {},
   "outputs": [
    {
     "name": "stdout",
     "output_type": "stream",
     "text": [
      "6\n"
     ]
    }
   ],
   "source": [
    "num=int(input())\n",
    "if num%3==0:\n",
    "    print(num)\n",
    "else:\n",
    "    print(num**3)"
   ]
  },
  {
   "cell_type": "markdown",
   "metadata": {},
   "source": [
    "65"
   ]
  },
  {
   "cell_type": "code",
   "execution_count": null,
   "metadata": {},
   "outputs": [
    {
     "name": "stdout",
     "output_type": "stream",
     "text": [
      "2 <class 'str'>\n"
     ]
    }
   ],
   "source": [
    "num=int(input())\n",
    "if num%3==0 and num%5==0:\n",
    "    print(num)\n",
    "else:\n",
    "    n=str(num)\n",
    "    print(n,type(n))"
   ]
  },
  {
   "cell_type": "markdown",
   "metadata": {},
   "source": [
    "66"
   ]
  },
  {
   "cell_type": "code",
   "execution_count": null,
   "metadata": {},
   "outputs": [
    {
     "name": "stdout",
     "output_type": "stream",
     "text": [
      "225\n"
     ]
    }
   ],
   "source": [
    "num=int(input())\n",
    "if num>1 and num<19:\n",
    "    print(num**2)\n",
    "else:\n",
    "    print(num**3,num)"
   ]
  },
  {
   "cell_type": "markdown",
   "metadata": {},
   "source": [
    "67"
   ]
  },
  {
   "cell_type": "code",
   "execution_count": null,
   "metadata": {},
   "outputs": [
    {
     "name": "stdout",
     "output_type": "stream",
     "text": [
      "FAIL 2\n"
     ]
    }
   ],
   "source": [
    "m=int(input(\"enter your marks\"))\n",
    "if m>40:\n",
    "    print(\"PASS\",m)\n",
    "else:\n",
    "    print(\"FAIL\",m)\n"
   ]
  },
  {
   "cell_type": "markdown",
   "metadata": {},
   "source": [
    "68"
   ]
  },
  {
   "cell_type": "code",
   "execution_count": null,
   "metadata": {},
   "outputs": [
    {
     "name": "stdout",
     "output_type": "stream",
     "text": [
      "13\n"
     ]
    }
   ],
   "source": [
    "num=int(input())\n",
    "if num%2==0 and (num<=47 and num>=58 and num!=0):\n",
    "    print(chr(num))\n",
    "else:\n",
    "    print(num//5)"
   ]
  },
  {
   "cell_type": "markdown",
   "metadata": {},
   "source": [
    "69"
   ]
  },
  {
   "cell_type": "code",
   "execution_count": null,
   "metadata": {},
   "outputs": [
    {
     "name": "stdout",
     "output_type": "stream",
     "text": [
      "{120: 'x'}\n"
     ]
    }
   ],
   "source": [
    "num=int(input())\n",
    "if num<125 and (num>47 and num<125):\n",
    "    dict={num:ch}\n",
    "    ch=dict[num]\n",
    "    ch= chr(num)\n",
    "    print(dict)\n",
    "else:\n",
    "    l=[0,0]\n",
    "    l[0]=num\n",
    "    print(l)"
   ]
  },
  {
   "cell_type": "markdown",
   "metadata": {},
   "source": [
    "70"
   ]
  },
  {
   "cell_type": "code",
   "execution_count": null,
   "metadata": {},
   "outputs": [
    {
     "name": "stdout",
     "output_type": "stream",
     "text": [
      "5\n",
      "not alphabet\n"
     ]
    }
   ],
   "source": [
    "ch=(input())\n",
    "if ch>='a' and ch<='z' and ch>='A' and ch>='Z':\n",
    "    print(\"alphabet\")\n",
    "    print(ch)\n",
    "else:\n",
    "    print(ch)\n",
    "    print(\"not alphabet\")"
   ]
  },
  {
   "cell_type": "markdown",
   "metadata": {},
   "source": [
    "71"
   ]
  },
  {
   "cell_type": "code",
   "execution_count": null,
   "metadata": {},
   "outputs": [
    {
     "name": "stdout",
     "output_type": "stream",
     "text": [
      "uppercase\n",
      "K\n"
     ]
    }
   ],
   "source": [
    "ch=(input())\n",
    "if ch>='A' and ch<='Z' :\n",
    "    print(\"uppercase\")\n",
    "    print(ch)\n",
    "else:\n",
    "    print(\"not an uppercase\")\n",
    "    print(ch)"
   ]
  },
  {
   "cell_type": "markdown",
   "metadata": {},
   "source": [
    "72"
   ]
  },
  {
   "cell_type": "code",
   "execution_count": null,
   "metadata": {},
   "outputs": [
    {
     "name": "stdout",
     "output_type": "stream",
     "text": [
      "A\n",
      "not a lowercase\n"
     ]
    }
   ],
   "source": [
    "ch=(input())\n",
    "if  ch>='a' and ch<='z':\n",
    "    print(ch)\n",
    "    print(\"lowercase\")\n",
    "else:\n",
    "    print(ch)\n",
    "    print(\"not a lowercase\")"
   ]
  },
  {
   "cell_type": "markdown",
   "metadata": {},
   "source": [
    "73"
   ]
  },
  {
   "cell_type": "code",
   "execution_count": null,
   "metadata": {},
   "outputs": [
    {
     "name": "stdout",
     "output_type": "stream",
     "text": [
      "107\n"
     ]
    }
   ],
   "source": [
    "ch=input()\n",
    "if ch>='A' and ch<='Z':\n",
    "    ascii1=ord(ch)\n",
    "    ascii2=(ascii1-32)\n",
    "    print(chr(ascii2))\n",
    "else:\n",
    "    print(ord(ch))"
   ]
  },
  {
   "cell_type": "markdown",
   "metadata": {},
   "source": [
    "74"
   ]
  },
  {
   "cell_type": "code",
   "execution_count": null,
   "metadata": {},
   "outputs": [
    {
     "name": "stdout",
     "output_type": "stream",
     "text": [
      "122\n"
     ]
    }
   ],
   "source": [
    "ch1=input()\n",
    "if ch1>='A' and ch1<='Z':\n",
    "    print(chr(ord(ch)+32)) \n",
    "else:\n",
    "    print(ord(ch1))"
   ]
  },
  {
   "cell_type": "markdown",
   "metadata": {},
   "source": [
    "75"
   ]
  },
  {
   "cell_type": "code",
   "execution_count": null,
   "metadata": {},
   "outputs": [
    {
     "name": "stdout",
     "output_type": "stream",
     "text": [
      "uppercase\n",
      "a\n"
     ]
    }
   ],
   "source": [
    "ch=input()\n",
    "if ch>='A' and ch<='Z':\n",
    "    print(\"uppercase\")\n",
    "    print(chr(ord(ch)+32))\n",
    "else:\n",
    "    print(\"lowercase\")\n",
    "    print(chr(ord(ch)-32))"
   ]
  },
  {
   "cell_type": "code",
   "execution_count": null,
   "metadata": {},
   "outputs": [],
   "source": []
  },
  {
   "cell_type": "markdown",
   "metadata": {},
   "source": [
    "76"
   ]
  },
  {
   "cell_type": "code",
   "execution_count": null,
   "metadata": {},
   "outputs": [
    {
     "name": "stdout",
     "output_type": "stream",
     "text": [
      "ayvak\n",
      "ka\n"
     ]
    }
   ],
   "source": [
    "st=input()\n",
    "if not((st[0]>='a' and st[0]<='z') or (st[0]>='A' and st[0]<='Z') or (st[0]>='0' and st[0]<='9')):\n",
    "    print(st[len(st)//2])\n",
    "else:\n",
    "    print(st[::-1])\n",
    "    print(st[0:len(st)//2:1])"
   ]
  },
  {
   "cell_type": "markdown",
   "metadata": {},
   "source": [
    "77"
   ]
  },
  {
   "cell_type": "code",
   "execution_count": null,
   "metadata": {},
   "outputs": [
    {
     "name": "stdout",
     "output_type": "stream",
     "text": [
      "CONSONENT\n"
     ]
    }
   ],
   "source": [
    "ch=input()\n",
    "st=\"aeiouAEIOU\"\n",
    "if ch in st:\n",
    "    print(\"VOWEL\")\n",
    "    print(ch)\n",
    "else:\n",
    "    print(\"CONSONENT\")"
   ]
  },
  {
   "cell_type": "markdown",
   "metadata": {},
   "source": [
    "78"
   ]
  },
  {
   "cell_type": "code",
   "execution_count": null,
   "metadata": {},
   "outputs": [
    {
     "name": "stdout",
     "output_type": "stream",
     "text": [
      "j\n"
     ]
    }
   ],
   "source": [
    "ch=input()\n",
    "st=\"aeiouAEIOU\"\n",
    "if ch in st:\n",
    "    print(chr(ord(ch)+1))\n",
    "else:\n",
    "    print(chr(ord(ch)-1))"
   ]
  },
  {
   "cell_type": "markdown",
   "metadata": {},
   "source": [
    "79"
   ]
  },
  {
   "cell_type": "code",
   "execution_count": 2,
   "metadata": {},
   "outputs": [
    {
     "ename": "SyntaxError",
     "evalue": "expected ':' (3336300807.py, line 4)",
     "output_type": "error",
     "traceback": [
      "\u001b[1;36m  Cell \u001b[1;32mIn[2], line 4\u001b[1;36m\u001b[0m\n\u001b[1;33m    if(n%i==0)\u001b[0m\n\u001b[1;37m              ^\u001b[0m\n\u001b[1;31mSyntaxError\u001b[0m\u001b[1;31m:\u001b[0m expected ':'\n"
     ]
    }
   ],
   "source": []
  }
 ],
 "metadata": {
  "kernelspec": {
   "display_name": "Python 3",
   "language": "python",
   "name": "python3"
  },
  "language_info": {
   "codemirror_mode": {
    "name": "ipython",
    "version": 3
   },
   "file_extension": ".py",
   "mimetype": "text/x-python",
   "name": "python",
   "nbconvert_exporter": "python",
   "pygments_lexer": "ipython3",
   "version": "3.12.1"
  }
 },
 "nbformat": 4,
 "nbformat_minor": 2
}
