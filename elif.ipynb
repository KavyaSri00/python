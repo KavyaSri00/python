{
 "cells": [
  {
   "cell_type": "markdown",
   "metadata": {},
   "source": []
  },
  {
   "cell_type": "code",
   "execution_count": 3,
   "metadata": {},
   "outputs": [
    {
     "name": "stdout",
     "output_type": "stream",
     "text": [
      "zero\n"
     ]
    }
   ],
   "source": [
    "num=int(input())\n",
    "if(num>0):\n",
    "    print(\"positive\")\n",
    "elif(num<0):\n",
    "    print(\"negative\")\n",
    "else:\n",
    "    print(\"zero\")"
   ]
  },
  {
   "cell_type": "code",
   "execution_count": 5,
   "metadata": {},
   "outputs": [
    {
     "name": "stdout",
     "output_type": "stream",
     "text": [
      "zero\n"
     ]
    }
   ],
   "source": [
    "num=int(input())\n",
    "if(num==0):\n",
    "    print(\"zero\")\n",
    "elif(num%2==0):\n",
    "    print(\"even\")\n",
    "elif(num%2==1):\n",
    "    print(\"odd\")\n"
   ]
  },
  {
   "cell_type": "code",
   "execution_count": 7,
   "metadata": {},
   "outputs": [
    {
     "name": "stdout",
     "output_type": "stream",
     "text": [
      "uppercase\n"
     ]
    }
   ],
   "source": [
    "ch=input()\n",
    "if(ch>='A' and ch<='Z'):\n",
    "    print(\"uppercase\")\n",
    "elif(ch>='a' and ch<='z'):\n",
    "    print(\"lowercase\")\n",
    "    "
   ]
  },
  {
   "cell_type": "code",
   "execution_count": 10,
   "metadata": {},
   "outputs": [
    {
     "name": "stdout",
     "output_type": "stream",
     "text": [
      "digit\n"
     ]
    }
   ],
   "source": [
    "ch=input()\n",
    "if(ch>='A' and ch<='Z') or (ch>='a' and ch<='z'):\n",
    "    print(\"alphabet\")\n",
    "elif(ch>='0' and ch<='9'):\n",
    "    print(\"digit\")\n",
    "elif(not (ch>='A' and ch<='Z') or (ch>='a' and ch<='z') or (ch>='0' and ch<='9')):\n",
    "    print(\"\")"
   ]
  },
  {
   "cell_type": "code",
   "execution_count": 13,
   "metadata": {},
   "outputs": [
    {
     "name": "stdout",
     "output_type": "stream",
     "text": [
      "buzz\n"
     ]
    }
   ],
   "source": [
    "num=int(input())\n",
    "if(num%3==0 and num%5==0):\n",
    "    print(\"fizzbuzz\")\n",
    "elif(num%3==0):\n",
    "    print(\"fizz\")\n",
    "elif(num%5==0):\n",
    "    print(\"buzz\")"
   ]
  }
 ],
 "metadata": {
  "kernelspec": {
   "display_name": "Python 3",
   "language": "python",
   "name": "python3"
  },
  "language_info": {
   "codemirror_mode": {
    "name": "ipython",
    "version": 3
   },
   "file_extension": ".py",
   "mimetype": "text/x-python",
   "name": "python",
   "nbconvert_exporter": "python",
   "pygments_lexer": "ipython3",
   "version": "3.12.1"
  }
 },
 "nbformat": 4,
 "nbformat_minor": 2
}
