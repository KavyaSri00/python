{
 "cells": [
  {
   "cell_type": "markdown",
   "metadata": {},
   "source": []
  },
  {
   "cell_type": "code",
   "execution_count": 3,
   "metadata": {},
   "outputs": [
    {
     "name": "stdout",
     "output_type": "stream",
     "text": [
      "not greater\n"
     ]
    }
   ],
   "source": [
    "num=int(input(\"enter the number\"))\n",
    "if(num>10):\n",
    "    print(\"greater\")\n",
    "else:\n",
    "    print(\"not greater\")"
   ]
  },
  {
   "cell_type": "code",
   "execution_count": 5,
   "metadata": {},
   "outputs": [
    {
     "name": "stdout",
     "output_type": "stream",
     "text": [
      "not equals\n"
     ]
    }
   ],
   "source": [
    "num=int(input(\"enter the number\"))\n",
    "if(num==15):\n",
    "    print(\"equals\")\n",
    "else:\n",
    "        print(\"not equals\")"
   ]
  },
  {
   "cell_type": "code",
   "execution_count": 6,
   "metadata": {},
   "outputs": [
    {
     "name": "stdout",
     "output_type": "stream",
     "text": [
      "its divisible by 4\n"
     ]
    }
   ],
   "source": [
    "num=int(input(\"enter the number\"))\n",
    "if(num%4==0):\n",
    "    print(\"its divisible by 4\")\n",
    "else:\n",
    "        print(\"its not divisble by 4\")"
   ]
  },
  {
   "cell_type": "code",
   "execution_count": 8,
   "metadata": {},
   "outputs": [
    {
     "name": "stdout",
     "output_type": "stream",
     "text": [
      "20\n"
     ]
    }
   ],
   "source": [
    "num=int(input(\"enter the number\"))\n",
    "if(num>21 and num<35 and num%2==0):\n",
    "        print(num**3)\n",
    "else:\n",
    "        num1=num-20\n",
    "        print(num1)        \n"
   ]
  },
  {
   "cell_type": "code",
   "execution_count": 11,
   "metadata": {},
   "outputs": [
    {
     "name": "stdout",
     "output_type": "stream",
     "text": [
      "not an alphabet\n"
     ]
    }
   ],
   "source": [
    "ch=input(\"enter the character\")\n",
    "if(ch>='A' and ch<='Z' or ch>='a' and ch<='z'):\n",
    "    print(\"alphabet\")\n",
    "else:\n",
    "    print(\"not an alphabet\")"
   ]
  },
  {
   "cell_type": "code",
   "execution_count": 15,
   "metadata": {},
   "outputs": [
    {
     "name": "stdout",
     "output_type": "stream",
     "text": [
      "its a digit\n"
     ]
    }
   ],
   "source": [
    "n=int(input(\"enter the number\"))\n",
    "if(n>=1 and n<=9):\n",
    "    print(\"its a digit\")\n",
    "else:\n",
    "    print(\"its not a digit\")"
   ]
  },
  {
   "cell_type": "code",
   "execution_count": 28,
   "metadata": {},
   "outputs": [
    {
     "name": "stdout",
     "output_type": "stream",
     "text": [
      "its an alphabet\n"
     ]
    }
   ],
   "source": [
    "ch=input(\"enter any character\")\n",
    "if(c):\n",
    "    print(\"its a symbol\")\n",
    "else:\n",
    "    print(\"its an alphabet\")"
   ]
  },
  {
   "cell_type": "code",
   "execution_count": 6,
   "metadata": {},
   "outputs": [
    {
     "name": "stdout",
     "output_type": "stream",
     "text": [
      "65\n"
     ]
    }
   ],
   "source": [
    "ch=input(\"enter any character\")\n",
    "if(ch>='A' and ch<='Z' or ch>='a' and ch<='z'):\n",
    "    asci=ord(ch)\n",
    "    print(asci)\n",
    "else:\n",
    "    print(ch)"
   ]
  },
  {
   "cell_type": "code",
   "execution_count": 11,
   "metadata": {},
   "outputs": [
    {
     "name": "stdout",
     "output_type": "stream",
     "text": [
      "happy diwali\n"
     ]
    }
   ],
   "source": [
    "k=input(\"enter the symbol \")\n",
    "if( not(k>='A' and k<='Z' or k>='0' and k<='9' or k>='a' and k<='z'  ) and ord(k)>70):\n",
    "     print(\"happy diwali\")\n",
    "else:\n",
    "    print(\"come on wednesday\")\n",
    "\n",
    "\n"
   ]
  },
  {
   "cell_type": "code",
   "execution_count": 13,
   "metadata": {},
   "outputs": [
    {
     "name": "stdout",
     "output_type": "stream",
     "text": [
      "its a vowel\n"
     ]
    }
   ],
   "source": [
    "ch=input(\"enter the character\")\n",
    "c='aeiou'\n",
    "if(ch in c):\n",
    "    print(\"its a vowel\")\n",
    "else:\n",
    "    print (\"its not a vowel\")"
   ]
  },
  {
   "cell_type": "code",
   "execution_count": 17,
   "metadata": {},
   "outputs": [
    {
     "name": "stdout",
     "output_type": "stream",
     "text": [
      "it consonant \n"
     ]
    }
   ],
   "source": [
    "ch=input(\"enter the character\")\n",
    "if(ch!='aeiou'):\n",
    "    print(\"it consonant \")\n",
    "else:\n",
    "    print(\"its an vowel\")\n"
   ]
  },
  {
   "cell_type": "code",
   "execution_count": 19,
   "metadata": {},
   "outputs": [
    {
     "name": "stdout",
     "output_type": "stream",
     "text": [
      "its an even num\n"
     ]
    }
   ],
   "source": [
    "num=int(input(\"enter the number\"))\n",
    "if(num%2==0):\n",
    "    print(\"its an even num\")\n",
    "else:\n",
    "    print(\"its an odd number\")"
   ]
  },
  {
   "cell_type": "code",
   "execution_count": null,
   "metadata": {},
   "outputs": [],
   "source": [
    "ch=input(\"enter the character\")\n",
    "if(ch>='A' and ch<='z' and ch>='a' or ch<='z')"
   ]
  },
  {
   "cell_type": "code",
   "execution_count": 4,
   "metadata": {},
   "outputs": [
    {
     "name": "stdout",
     "output_type": "stream",
     "text": [
      "5\n",
      "program ends\n"
     ]
    }
   ],
   "source": [
    "num=int(input())\n",
    "if(num>10):\n",
    "    print(num**2)\n",
    "else:\n",
    "    print(num)\n",
    "    print(\"program ends\")\n"
   ]
  },
  {
   "cell_type": "code",
   "execution_count": 10,
   "metadata": {},
   "outputs": [
    {
     "name": "stdout",
     "output_type": "stream",
     "text": [
      "even\n"
     ]
    }
   ],
   "source": [
    "ch=input()\n",
    "if(len(ch)%2==0):\n",
    "    print(\"even\")\n",
    "else:\n",
    "    print(\"odd\")\n"
   ]
  },
  {
   "cell_type": "code",
   "execution_count": 30,
   "metadata": {},
   "outputs": [
    {
     "name": "stdout",
     "output_type": "stream",
     "text": [
      "positive\n"
     ]
    }
   ],
   "source": [
    "list=[1,2,3,4,5]\n",
    "midindex=len(list)//2\n",
    "if (list[midindex]>0):\n",
    "    print(\"positive\")\n",
    "else:\n",
    "    print(\"negative\")"
   ]
  },
  {
   "cell_type": "code",
   "execution_count": 22,
   "metadata": {},
   "outputs": [
    {
     "name": "stdout",
     "output_type": "stream",
     "text": [
      "107\n"
     ]
    }
   ],
   "source": [
    "ch=input()\n",
    "if(ch>='A'and ch<='Z'):\n",
    "    print(chr(ord(ch)+32))\n",
    "else:\n",
    "    print(ord(ch))"
   ]
  },
  {
   "cell_type": "code",
   "execution_count": 1,
   "metadata": {},
   "outputs": [
    {
     "name": "stdout",
     "output_type": "stream",
     "text": [
      "not same\n"
     ]
    }
   ],
   "source": [
    "st=input()\n",
    "m=len(st)//2\n",
    "a=str(len(st))\n",
    "if(ord(st[m])==ord(a)):\n",
    "         print(\"equals\")\n",
    "else:\n",
    "            print(\"not same\")"
   ]
  },
  {
   "cell_type": "code",
   "execution_count": 28,
   "metadata": {},
   "outputs": [],
   "source": []
  }
 ],
 "metadata": {
  "kernelspec": {
   "display_name": "Python 3",
   "language": "python",
   "name": "python3"
  },
  "language_info": {
   "codemirror_mode": {
    "name": "ipython",
    "version": 3
   },
   "file_extension": ".py",
   "mimetype": "text/x-python",
   "name": "python",
   "nbconvert_exporter": "python",
   "pygments_lexer": "ipython3",
   "version": "3.12.1"
  }
 },
 "nbformat": 4,
 "nbformat_minor": 2
}
