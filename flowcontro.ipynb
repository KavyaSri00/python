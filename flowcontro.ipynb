{
 "cells": [
  {
   "cell_type": "markdown",
   "metadata": {},
   "source": []
  },
  {
   "cell_type": "code",
   "execution_count": 3,
   "metadata": {},
   "outputs": [
    {
     "name": "stdout",
     "output_type": "stream",
     "text": [
      "not greater\n"
     ]
    }
   ],
   "source": [
    "num=int(input(\"enter the number\"))\n",
    "if(num>10):\n",
    "    print(\"greater\")\n",
    "else:\n",
    "    print(\"not greater\")"
   ]
  },
  {
   "cell_type": "code",
   "execution_count": 5,
   "metadata": {},
   "outputs": [
    {
     "name": "stdout",
     "output_type": "stream",
     "text": [
      "not equals\n"
     ]
    }
   ],
   "source": [
    "num=int(input(\"enter the number\"))\n",
    "if(num==15):\n",
    "    print(\"equals\")\n",
    "else:\n",
    "        print(\"not equals\")"
   ]
  },
  {
   "cell_type": "code",
   "execution_count": 6,
   "metadata": {},
   "outputs": [
    {
     "name": "stdout",
     "output_type": "stream",
     "text": [
      "its divisible by 4\n"
     ]
    }
   ],
   "source": [
    "num=int(input(\"enter the number\"))\n",
    "if(num%4==0):\n",
    "    print(\"its divisible by 4\")\n",
    "else:\n",
    "        print(\"its not divisble by 4\")"
   ]
  },
  {
   "cell_type": "code",
   "execution_count": 8,
   "metadata": {},
   "outputs": [
    {
     "name": "stdout",
     "output_type": "stream",
     "text": [
      "20\n"
     ]
    }
   ],
   "source": [
    "num=int(input(\"enter the number\"))\n",
    "if(num>21 and num<35 and num%2==0):\n",
    "        print(num**3)\n",
    "else:\n",
    "        num1=num-20\n",
    "        print(num1)        \n"
   ]
  },
  {
   "cell_type": "code",
   "execution_count": 11,
   "metadata": {},
   "outputs": [
    {
     "name": "stdout",
     "output_type": "stream",
     "text": [
      "not an alphabet\n"
     ]
    }
   ],
   "source": [
    "ch=input(\"enter the character\")\n",
    "if(ch>='A' and ch<='Z' or ch>='a' and ch<='z'):\n",
    "    print(\"alphabet\")\n",
    "else:\n",
    "    print(\"not an alphabet\")"
   ]
  },
  {
   "cell_type": "code",
   "execution_count": 15,
   "metadata": {},
   "outputs": [
    {
     "name": "stdout",
     "output_type": "stream",
     "text": [
      "its a digit\n"
     ]
    }
   ],
   "source": [
    "n=int(input(\"enter the number\"))\n",
    "if(n>=1 and n<=9):\n",
    "    print(\"its a digit\")\n",
    "else:\n",
    "    print(\"its not a digit\")"
   ]
  },
  {
   "cell_type": "code",
   "execution_count": 28,
   "metadata": {},
   "outputs": [
    {
     "name": "stdout",
     "output_type": "stream",
     "text": [
      "its an alphabet\n"
     ]
    }
   ],
   "source": [
    "ch=input(\"enter any character\")\n",
    "if(c):\n",
    "    print(\"its a symbol\")\n",
    "else:\n",
    "    print(\"its an alphabet\")"
   ]
  },
  {
   "cell_type": "code",
   "execution_count": 30,
   "metadata": {},
   "outputs": [
    {
     "name": "stdout",
     "output_type": "stream",
     "text": [
      "8\n"
     ]
    }
   ],
   "source": [
    "ch=input(\"enter any character\")\n",
    "if(ch>='A' and ch<='Z' or ch>='a' and ch<='z'):\n",
    "    asci=ord(ch)\n",
    "    print(asci)\n",
    "else:\n",
    "    print(ch)"
   ]
  },
  {
   "cell_type": "code",
   "execution_count": null,
   "metadata": {},
   "outputs": [],
   "source": [
    "k=input(\"enter the symbol \")\n",
    "if( not(ch>='A' and ch<='Z' or ch>='1' and ch<='9' or ch>='a' and ch<='z' )):\n",
    "    asci=ord(k)>70\n",
    "    print(asci)\n",
    "    print(\"happy diwali\")\n",
    "else:\n",
    "    print(\"come on wednesday\")\n",
    "\n",
    "\n"
   ]
  }
 ],
 "metadata": {
  "kernelspec": {
   "display_name": "Python 3",
   "language": "python",
   "name": "python3"
  },
  "language_info": {
   "codemirror_mode": {
    "name": "ipython",
    "version": 3
   },
   "file_extension": ".py",
   "mimetype": "text/x-python",
   "name": "python",
   "nbconvert_exporter": "python",
   "pygments_lexer": "ipython3",
   "version": "3.12.1"
  }
 },
 "nbformat": 4,
 "nbformat_minor": 2
}
