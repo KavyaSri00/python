{
 "cells": [
  {
   "cell_type": "markdown",
   "metadata": {},
   "source": [
    "1"
   ]
  },
  {
   "cell_type": "code",
   "execution_count": 4,
   "metadata": {},
   "outputs": [
    {
     "name": "stdout",
     "output_type": "stream",
     "text": [
      "neutral\n"
     ]
    }
   ],
   "source": [
    "n=int(input())\n",
    "if(n>0):\n",
    "    print(\"positive\")\n",
    "elif(n<0):\n",
    "    print(\"negative\")\n",
    "elif(n==0):\n",
    "    print(\"neutral\")"
   ]
  },
  {
   "cell_type": "markdown",
   "metadata": {},
   "source": [
    "2"
   ]
  },
  {
   "cell_type": "code",
   "execution_count": 9,
   "metadata": {},
   "outputs": [
    {
     "name": "stdout",
     "output_type": "stream",
     "text": [
      "200\n"
     ]
    }
   ],
   "source": [
    "n1=int(input())\n",
    "n2=int(input())\n",
    "n3=int(input())\n",
    "if(n1>n2):\n",
    "    print(n1)\n",
    "elif n2<n3:\n",
    "    print(n3)\n",
    "elif n2>n1:\n",
    "    print(n2)"
   ]
  },
  {
   "cell_type": "markdown",
   "metadata": {},
   "source": [
    "3"
   ]
  },
  {
   "cell_type": "code",
   "execution_count": 17,
   "metadata": {},
   "outputs": [
    {
     "name": "stdout",
     "output_type": "stream",
     "text": [
      "fizzbuzz\n"
     ]
    }
   ],
   "source": [
    "n=int(input())\n",
    "if(n%3==0 and n%5==0):\n",
    "    print(\"fizzbuzz\")\n",
    "elif (n%5==0):\n",
    "    print(\"buzz\")\n",
    "elif (n%3==0 ):\n",
    "    print(\"fizz\")"
   ]
  },
  {
   "cell_type": "markdown",
   "metadata": {},
   "source": [
    "4"
   ]
  },
  {
   "cell_type": "code",
   "execution_count": 48,
   "metadata": {},
   "outputs": [
    {
     "name": "stdout",
     "output_type": "stream",
     "text": [
      "equals\n"
     ]
    }
   ],
   "source": [
    "n=int(input())\n",
    "n1=int(input())\n",
    "if n==n1:\n",
    "    print(\"equals\")\n",
    "elif n<n1:\n",
    "    print(\"num1 less than num2\")\n",
    "elif n>n1:\n",
    "    print(\"num1 greater than num2\")"
   ]
  },
  {
   "cell_type": "markdown",
   "metadata": {},
   "source": [
    "5"
   ]
  },
  {
   "cell_type": "code",
   "execution_count": 20,
   "metadata": {},
   "outputs": [
    {
     "name": "stdout",
     "output_type": "stream",
     "text": [
      "three digit 566\n"
     ]
    }
   ],
   "source": [
    "n=int(input())\n",
    "st=str(n)\n",
    "if len(st)==1:\n",
    "    print(\"one digit\",n)\n",
    "elif len(st)==2:\n",
    "    print(\"two digit\",n)\n",
    "elif len(st)==3:\n",
    "    print(\"three digit\",n)"
   ]
  },
  {
   "cell_type": "markdown",
   "metadata": {},
   "source": [
    "6"
   ]
  },
  {
   "cell_type": "code",
   "execution_count": 49,
   "metadata": {},
   "outputs": [],
   "source": [
    "ch=input()\n",
    "if (ch>='A' and ch<='Z') and (ch>='a' and ch<='z'):\n",
    "    print(\"alphabet\",ch)\n",
    "elif ch==ord(ch):\n",
    "    print(ord(ch),ch)\n"
   ]
  },
  {
   "cell_type": "markdown",
   "metadata": {},
   "source": [
    "7"
   ]
  },
  {
   "cell_type": "code",
   "execution_count": 50,
   "metadata": {},
   "outputs": [
    {
     "name": "stdout",
     "output_type": "stream",
     "text": [
      "five\n"
     ]
    }
   ],
   "source": [
    "n=int(input())\n",
    "if n==1:\n",
    "    print(\"one\")\n",
    "elif n==2:\n",
    "    print(\"two\")\n",
    "elif n==3:\n",
    "    print(\"three\")\n",
    "elif n==4:\n",
    "    print(\"four\")\n",
    "elif n==5:\n",
    "    print(\"five\")"
   ]
  },
  {
   "cell_type": "markdown",
   "metadata": {},
   "source": [
    "8"
   ]
  },
  {
   "cell_type": "code",
   "execution_count": 51,
   "metadata": {},
   "outputs": [
    {
     "name": "stdout",
     "output_type": "stream",
     "text": [
      "special symbol\n"
     ]
    }
   ],
   "source": [
    "ch=input()\n",
    "if ch>='A' and ch<='Z':\n",
    "    print(\"Uppercase\")\n",
    "elif ch>='a' and ch<='z':\n",
    "    print(\"lowercase\")\n",
    "elif ch>='0' and ch<='9':\n",
    "    print(\"number\")\n",
    "elif not((ch>='A' and ch<='Z') or (ch>='a' and ch<='z') or (ch>='0' and ch<='9')):\n",
    "    print(\"special symbol\")"
   ]
  },
  {
   "cell_type": "markdown",
   "metadata": {},
   "source": [
    "9"
   ]
  },
  {
   "cell_type": "code",
   "execution_count": 55,
   "metadata": {},
   "outputs": [
    {
     "name": "stdout",
     "output_type": "stream",
     "text": [
      "number\n",
      "0\n",
      "1\n",
      "2\n"
     ]
    }
   ],
   "source": [
    "ch=input()\n",
    "if ch>='A' and ch<='Z':\n",
    "    print(\"Uppercase\")\n",
    "    print(chr(ord(ch)+32))\n",
    "elif ch>='a' and ch<='z':\n",
    "    print(\"lowercase\")\n",
    "    print(chr(ord(ch)-32))\n",
    "elif ch>='0' and ch<='9':\n",
    "    print(\"number\")\n",
    "    print(chr(ord(ch)-1))\n",
    "    print(ch)\n",
    "    print(chr(ord(ch)+1))\n",
    "elif not((ch>='A' and ch<='Z') or (ch>='a' and ch<='z') or (ch>='0' and ch<='9')):\n",
    "    print(\"special symbol\")\n",
    "    print(chr(ord(ch)-1))\n",
    "    print(ch)\n",
    "    print(chr(ord(ch)+1))"
   ]
  },
  {
   "cell_type": "markdown",
   "metadata": {},
   "source": [
    "10"
   ]
  },
  {
   "cell_type": "code",
   "execution_count": 56,
   "metadata": {},
   "outputs": [
    {
     "name": "stdout",
     "output_type": "stream",
     "text": [
      "lowercase\n"
     ]
    }
   ],
   "source": [
    "ch=input()\n",
    "if ch>='A' and ch<='Z':\n",
    "    print(\"Uppercase\")\n",
    "elif ch>='a' and ch<='z':\n",
    "    print(\"lowercase\")\n",
    "elif ch>='0' and ch<='9':\n",
    "    print(\"number\")\n",
    "elif not((ch>='A' and ch<='Z') or (ch>='a' and ch<='z') or (ch>='0' and ch<='9')):\n",
    "    print(\"special symbol\")"
   ]
  },
  {
   "cell_type": "markdown",
   "metadata": {},
   "source": [
    "11"
   ]
  },
  {
   "cell_type": "code",
   "execution_count": 57,
   "metadata": {},
   "outputs": [
    {
     "name": "stdout",
     "output_type": "stream",
     "text": [
      "First grade\n"
     ]
    }
   ],
   "source": [
    "marks=int(input())\n",
    "if marks<=100 and marks>=90:\n",
    "    print(\"First grade\")\n",
    "elif marks<80 and marks>=70:\n",
    "    print(\"second grade\")\n",
    "elif marks<60 and marks>=35:\n",
    "    print(\"third grade\")\n",
    "elif marks<35:\n",
    "    print(\"fail\")"
   ]
  },
  {
   "cell_type": "markdown",
   "metadata": {},
   "source": [
    "12"
   ]
  },
  {
   "cell_type": "code",
   "execution_count": 60,
   "metadata": {},
   "outputs": [],
   "source": [
    "num1=int(input())\n",
    "num2=int(input())\n",
    "ch=input()\n",
    "if ch=='+' :\n",
    "    print(num1+num2)\n",
    "elif ch=='-':\n",
    "    print(num1-num2)\n",
    "elif ch=='*':\n",
    "    print(num1*num2)\n",
    "elif ch=='/':\n",
    "    print(num1/num2)\n",
    "elif ch=='//':\n",
    "    print(num1//num2)\n",
    "elif ch=='%':\n",
    "    print(num1%num2)\n",
    "elif ch=='**':\n",
    "    print(num1**num2)"
   ]
  },
  {
   "cell_type": "markdown",
   "metadata": {},
   "source": [
    "13"
   ]
  },
  {
   "cell_type": "code",
   "execution_count": 61,
   "metadata": {},
   "outputs": [
    {
     "name": "stdout",
     "output_type": "stream",
     "text": [
      "3 one digit value\n"
     ]
    }
   ],
   "source": [
    "num=int(input())\n",
    "if len(str(num))==1:\n",
    "    print(num,\"one digit value\")\n",
    "elif len(str(num))==2:\n",
    "    print(num,\"two digit value\")\n",
    "elif len(str(num))==3:\n",
    "    print(num,\"three digit number\")\n",
    "elif len(str(num))>3:\n",
    "    print(num,\"more than 3 digits\")"
   ]
  },
  {
   "cell_type": "markdown",
   "metadata": {},
   "source": [
    "14"
   ]
  },
  {
   "cell_type": "code",
   "execution_count": 63,
   "metadata": {},
   "outputs": [
    {
     "name": "stdout",
     "output_type": "stream",
     "text": [
      "5\n",
      "\u0005 5\n"
     ]
    }
   ],
   "source": [
    "col=\"hi\"\n",
    "newVal=int(input())\n",
    "if type(col)==list:\n",
    "    col[len(col)//2]=newVal\n",
    "    print(col)\n",
    "elif type(col)==tuple:\n",
    "    col=list(col)\n",
    "    col[0]=newVal\n",
    "    col=tuple(col)\n",
    "    print(col)\n",
    "elif type(col)==set:\n",
    "    col=list(col)\n",
    "    col=col+[newVal]\n",
    "    col=set(col)\n",
    "    print(col)\n",
    "else:\n",
    "    col=newVal\n",
    "    print(col)\n",
    "    print(chr(newVal),newVal)"
   ]
  },
  {
   "cell_type": "markdown",
   "metadata": {},
   "source": [
    "15"
   ]
  },
  {
   "cell_type": "code",
   "execution_count": 64,
   "metadata": {},
   "outputs": [
    {
     "name": "stdout",
     "output_type": "stream",
     "text": [
      "['a', 's', 'r', 'i', 'k', 'a', 'v', 'y']\n"
     ]
    }
   ],
   "source": [
    "given=\"kavyasri\"\n",
    "if type(given)==int:\n",
    "    print(given//5)\n",
    "elif type(given)==float:\n",
    "    print(int(given)|15)\n",
    "elif type(given)==str:\n",
    "    given=list(given)\n",
    "    given[0:len(given)//2],given[len(given)//2:]=given[len(given)//2:],given[0:len(given)//2]\n",
    "    given=str(given)\n",
    "    print(given)\n",
    "else:\n",
    "    given=list(given)\n",
    "    print(given)"
   ]
  },
  {
   "cell_type": "markdown",
   "metadata": {},
   "source": [
    "16"
   ]
  },
  {
   "cell_type": "code",
   "execution_count": null,
   "metadata": {},
   "outputs": [],
   "source": [
    "ch=input()\n",
    "if ch>='A' and ch<='Z':\n",
    "    print(chr(ord(ch)+32))\n",
    "    print(ch+chr(ord(ch)+1))\n",
    "elif :\n",
    "    print(int(ch)//6)\n",
    "    print(chr(int(ch)))\n",
    "else:\n",
    "    print(\"Invalid Output\")"
   ]
  },
  {
   "cell_type": "markdown",
   "metadata": {},
   "source": [
    "17"
   ]
  },
  {
   "cell_type": "code",
   "execution_count": 66,
   "metadata": {},
   "outputs": [
    {
     "name": "stdout",
     "output_type": "stream",
     "text": [
      "odd\n",
      "area of circle 5909.400000000001\n"
     ]
    }
   ],
   "source": [
    "num=int(input())\n",
    "if num%2==0:\n",
    "    print(\"even\")\n",
    "    if(num%4==0):\n",
    "        print(num**2)\n",
    "elif num%2==1:\n",
    "    print(\"odd\")\n",
    "    if num%3==0 and num%7==0:\n",
    "        print(\"area of circle\",13.4*(num**2))"
   ]
  },
  {
   "cell_type": "markdown",
   "metadata": {},
   "source": [
    "18"
   ]
  },
  {
   "cell_type": "code",
   "execution_count": 69,
   "metadata": {},
   "outputs": [
    {
     "name": "stdout",
     "output_type": "stream",
     "text": [
      "Invalid\n"
     ]
    }
   ],
   "source": [
    "col=input()\n",
    "ch=input()\n",
    "if ch in col:\n",
    "    if ch>='A' and ch<='Z':\n",
    "        print(chr(ord(ch)+32))\n",
    "    elif ch>='a' and ch<='z':\n",
    "        print(chr(ord(ch)-32))\n",
    "elif ch not in col:\n",
    "    print(\"Invalid\")"
   ]
  },
  {
   "cell_type": "markdown",
   "metadata": {},
   "source": [
    "19"
   ]
  },
  {
   "cell_type": "code",
   "execution_count": 70,
   "metadata": {},
   "outputs": [
    {
     "name": "stdout",
     "output_type": "stream",
     "text": [
      "avya\n"
     ]
    }
   ],
   "source": [
    "str=input()\n",
    "ch=input()\n",
    "if ch in str:\n",
    "    if len(str)%2==0:\n",
    "        print(str[0::1])\n",
    "    elif len(str)%2==1:\n",
    "        print(str[1::1])\n",
    "elif ch not in str:\n",
    "    print(str)"
   ]
  },
  {
   "cell_type": "markdown",
   "metadata": {},
   "source": [
    "20"
   ]
  },
  {
   "cell_type": "code",
   "execution_count": 72,
   "metadata": {},
   "outputs": [
    {
     "name": "stdout",
     "output_type": "stream",
     "text": [
      "6\n"
     ]
    }
   ],
   "source": [
    "ch=input()\n",
    "if (ch>='A' and ch<='Z') or (ch>='a' and ch<='z'):\n",
    "    if(ch>='A' and ch<='Z'):\n",
    "        print(\"uppercase\")\n",
    "        if ch in \"AEIOU\":\n",
    "            print(chr(ord(ch)+1))\n",
    "    elif (ch>='a' and ch<='z'):\n",
    "        print(chr(ord(ch)-32))\n",
    "    else:\n",
    "        print (\"not an alphabet\")\n",
    "elif not((ch>='A' and ch<='Z') or (ch>='a' and ch<='z')):\n",
    "    print(ch)"
   ]
  },
  {
   "cell_type": "markdown",
   "metadata": {},
   "source": [
    "21"
   ]
  },
  {
   "cell_type": "code",
   "execution_count": 74,
   "metadata": {},
   "outputs": [
    {
     "ename": "SyntaxError",
     "evalue": "cannot assign to subscript here. Maybe you meant '==' instead of '='? (43974808.py, line 4)",
     "output_type": "error",
     "traceback": [
      "\u001b[1;36m  Cell \u001b[1;32mIn[74], line 4\u001b[1;36m\u001b[0m\n\u001b[1;33m    if (val[0]=val)==val:\u001b[0m\n\u001b[1;37m        ^\u001b[0m\n\u001b[1;31mSyntaxError\u001b[0m\u001b[1;31m:\u001b[0m cannot assign to subscript here. Maybe you meant '==' instead of '='?\n"
     ]
    }
   ],
   "source": [
    "val=\"89\"\n",
    "if type(val) not in [int,float,bool,str]:\n",
    "    print(\"non-primitive\")\n",
    "    if (val[0]=val)==val:\n",
    "elif type(val) in [int,float,bool,str]:\n",
    "    print(\"primitive\")\n",
    "    print(~int(val))"
   ]
  }
 ],
 "metadata": {
  "kernelspec": {
   "display_name": "Python 3",
   "language": "python",
   "name": "python3"
  },
  "language_info": {
   "codemirror_mode": {
    "name": "ipython",
    "version": 3
   },
   "file_extension": ".py",
   "mimetype": "text/x-python",
   "name": "python",
   "nbconvert_exporter": "python",
   "pygments_lexer": "ipython3",
   "version": "3.12.1"
  }
 },
 "nbformat": 4,
 "nbformat_minor": 2
}
